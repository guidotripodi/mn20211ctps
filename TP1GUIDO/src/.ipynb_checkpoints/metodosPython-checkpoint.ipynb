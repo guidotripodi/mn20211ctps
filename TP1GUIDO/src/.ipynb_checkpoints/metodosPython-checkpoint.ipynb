{
 "cells": [
  {
   "cell_type": "code",
   "execution_count": 128,
   "metadata": {},
   "outputs": [],
   "source": [
    "import numpy as np\n",
    "import pandas as pd\n",
    "import math\n",
    "class Instancia():\n",
    "    def __init__(self,csvfile,contarEmpates=False):\n",
    "        self._equipos=0\n",
    "        self._partidos=0\n",
    "        self._cmm = None\n",
    "        self.mass=None\n",
    "        self.diferencia=None\n",
    "        self.ganados = None\n",
    "        self.enfrentamientos = None\n",
    "        self.ganadosEmpates = None\n",
    "        self.totales = None\n",
    "        self.ratings=None\n",
    "        f = open(csvfile, \"r\")\n",
    "        i=0\n",
    "        for line in list(f):\n",
    "            if i == 0: # header\n",
    "                i+=1\n",
    "                columns = line.split()\n",
    "                self._equipos = int(columns[0])\n",
    "                self._partidos = int(columns[1])\n",
    "                self._cmm = np.empty([self._equipos,self._equipos])\n",
    "                self.ganados= np.empty([self._equipos,self._equipos])\n",
    "                self.enfrentamientos= np.empty([self._equipos,self._equipos])\n",
    "                self.totales = np.zeros(self._equipos)\n",
    "                self.diferencias = np.zeros(self._equipos)\n",
    "                self.ratings = np.ones(self._equipos)*100\n",
    "                for i in range(0,self._equipos):\n",
    "                    for j in range(0,self._equipos):\n",
    "                        self.ganados[i,j]=0.0\n",
    "                        self.ganados[j,i]=0.0\n",
    "                        self.enfrentamientos[i,j]=0.\n",
    "                        self.enfrentamientos[j,i]=0.\n",
    "            else:\n",
    "                data = line.split();\n",
    "                print(data)\n",
    "\n",
    "                equipo1=int(data[1])-1\n",
    "                goles1=int(data[2])-1\n",
    "                equipo2=int(data[3])-1\n",
    "                goles2=int(data[4])-1\n",
    "                self.totales[int(data[1])-1]+=1\n",
    "                self.totales[int(data[3])-1]+=1\n",
    "                self.diferencias[int(data[1])-1]+=int(data[2])\n",
    "                self.diferencias[int(data[1])-1]-=int(data[4])\n",
    "\n",
    "                self.diferencias[int(data[3])-1]+=int(data[4])\n",
    "                self.diferencias[int(data[3])-1]-=int(data[2])\n",
    "                \n",
    "                r1= self.getEloRating(equipo1,equipo2,goles1,goles2,True)\n",
    "                r2 =self.getEloRating(equipo2,equipo1,goles2,goles1)\n",
    "                \n",
    "                self.ratings[equipo1]=r1\n",
    "                self.ratings[equipo2]=r2\n",
    "                self.enfrentamientos[equipo1,equipo2]+=1\n",
    "                self.enfrentamientos[equipo2,equipo1]+=1\n",
    "                if goles1>goles2:\n",
    "                    print('gana '+str(data[1]))\n",
    "                    self.ganados[equipo1,equipo2] +=1\n",
    "                elif goles2>goles1:\n",
    "                    print('gana '+str(data[3]))\n",
    "                    self.ganados[equipo2,equipo1] +=1\n",
    "                elif goles1==goles2 and contarEmpates:\n",
    "                    print('empate' + str(data[1])+'-'+str(data[3]))\n",
    "                    self.ganados[equipo2,equipo1] +=1\n",
    "                    self.ganados[equipo1,equipo2] +=1\n",
    "                    \n",
    "#             construyo la matriz de cmm\n",
    "        for i in range(0, ins.equipos()):\n",
    "            for j in range(0, ins.equipos()):\n",
    "                if i==j:\n",
    "                    self._cmm[i][j]=  self.totales[i]+ 2\n",
    "                else:\n",
    "                    self._cmm[i][j]=  self.enfrentamientos[i,j]*-1         \n",
    "#         Construyo el vector b                  \n",
    "        self.b = np.zeros(self.equipos())\n",
    "        for i in range(0,self.equipos()):\n",
    "            ganados =0\n",
    "            for j in range(0,self.equipos()):\n",
    "                ganados += self.ganados[i][j]\n",
    "            self.b[i]= 1+(2*ganados-self.totales[i])/2\n",
    "                          \n",
    "    def getEloRating(self,equipo1,equipo2,goles1,goles2,esLocal=False,K=60):\n",
    "        r0_1 = self.ratings[equipo1]\n",
    "        r0_2 = self.ratings[equipo2]\n",
    "        \n",
    "        df1 = int(goles1-goles2)\n",
    "        G =0\n",
    "        if df1==0 or df1==1:\n",
    "            G=1\n",
    "        elif df1 == 2:\n",
    "            G = 1.5\n",
    "        else:\n",
    "            G=(11+ abs(df1))/8\n",
    "#         // W is the result of the game (1 for a win, 0.5 for a draw, and 0 for a loss).\n",
    "        W=0\n",
    "        if df1==0:\n",
    "            W=0.5;\n",
    "        elif df1>0:\n",
    "            W=1;\n",
    "\n",
    "        dr=.0;\n",
    "        if esLocal :\n",
    "            dr = (r0_1-r0_2+100)*-1;\n",
    "        else:\n",
    "            dr = (r0_1-r0_2)*-1;\n",
    "\n",
    "        W_e = 1 / (pow(10,(dr/400)) + 1);\n",
    "        return r0_1+ G*(W-W_e);\n",
    "\n",
    "    def equipos(self):\n",
    "        return self._equipos\n",
    "    def partidos(self):\n",
    "        return self._partidos\n",
    "    def cmm(self):\n",
    "        \n",
    "        return self._cmm\n",
    "    def wp(self):\n",
    "        wp = np.zeros(self._equipos)\n",
    "        for i in range(0,self._equipos):\n",
    "            wp[i]=sum(self.ganados[i])/self.totales[i]\n",
    "        \n",
    "        return wp\n",
    "\n",
    "\n",
    "\n",
    "def forward_elimination(A, b, n):\n",
    "    \"\"\"\n",
    "    Calculates the forward part of Gaussian elimination.\n",
    "    \"\"\"\n",
    "    for row in range(0, n-1):\n",
    "        for i in range(row+1, n):\n",
    "            factor = A[i,row] / A[row,row]\n",
    "            for j in range(row, n):\n",
    "                A[i,j] = A[i,j] - factor * A[row,j]\n",
    "\n",
    "            b[i] = b[i] - factor * b[row]\n",
    "\n",
    "        print('A = \\n%s and b = %s' % (A,b))\n",
    "    return A, b\n",
    "\n",
    "def back_substitution(a, b, n):\n",
    "    \"\"\"\"\n",
    "    Does back substitution, returns the Gauss result.\n",
    "    \"\"\"\n",
    "    x = np.zeros((n,1))\n",
    "    x[n-1] = b[n-1] / a[n-1, n-1]\n",
    "    for row in range(n-2, -1, -1):\n",
    "        sums = b[row]\n",
    "        for j in range(row+1, n):\n",
    "            sums = sums - a[row,j] * x[j]\n",
    "        x[row] = sums / a[row,row]\n",
    "    return x\n",
    "\n",
    "def gauss(A, b):\n",
    "    \"\"\"\n",
    "    This function performs Gauss elimination without pivoting.\n",
    "    \"\"\"\n",
    "    n = A.shape[0]\n",
    "\n",
    "    # Check for zero diagonal elements\n",
    "    if any(np.diag(A)==0):\n",
    "        raise ZeroDivisionError(('Division by zero will occur; '\n",
    "                                  'pivoting currently not supported'))\n",
    "    \n",
    "    A, b = forward_elimination(A, b, n)\n",
    "    return back_substitution(A, b, n)"
   ]
  },
  {
   "cell_type": "markdown",
   "metadata": {},
   "source": [
    "## Contemos Empates\n",
    "\n",
    "ins = Instancia(\"tests/tests_nuestros/testEmpate.in\",True)"
   ]
  },
  {
   "cell_type": "code",
   "execution_count": 190,
   "metadata": {},
   "outputs": [
    {
     "data": {
      "text/plain": [
       "array([[ 6., -0., -2., -2., -0., -0.],\n",
       "       [-0.,  6., -1., -0., -1., -2.],\n",
       "       [-2., -1.,  6., -1., -0., -0.],\n",
       "       [-2., -0., -1.,  7., -1., -1.],\n",
       "       [-0., -1., -0., -1.,  6., -2.],\n",
       "       [-0., -2., -0., -1., -2.,  7.]])"
      ]
     },
     "execution_count": 190,
     "metadata": {},
     "output_type": "execute_result"
    }
   ],
   "source": [
    "ins._cmm"
   ]
  },
  {
   "cell_type": "code",
   "execution_count": 191,
   "metadata": {},
   "outputs": [
    {
     "data": {
      "text/plain": [
       "array([[0., 0., 2., 2., 0., 0.],\n",
       "       [0., 0., 1., 0., 1., 2.],\n",
       "       [2., 1., 0., 1., 0., 0.],\n",
       "       [2., 0., 1., 0., 1., 1.],\n",
       "       [0., 1., 0., 1., 0., 2.],\n",
       "       [0., 2., 0., 1., 2., 0.]])"
      ]
     },
     "execution_count": 191,
     "metadata": {},
     "output_type": "execute_result"
    }
   ],
   "source": [
    "ins.enfrentamientos"
   ]
  },
  {
   "cell_type": "code",
   "execution_count": 192,
   "metadata": {},
   "outputs": [
    {
     "data": {
      "text/plain": [
       "array([[0., 0., 0., 1., 0., 0.],\n",
       "       [0., 0., 0., 0., 1., 0.],\n",
       "       [2., 1., 0., 1., 0., 0.],\n",
       "       [2., 0., 0., 0., 0., 1.],\n",
       "       [0., 0., 0., 1., 0., 0.],\n",
       "       [0., 2., 0., 0., 2., 0.]])"
      ]
     },
     "execution_count": 192,
     "metadata": {},
     "output_type": "execute_result"
    }
   ],
   "source": [
    "ins.ganados"
   ]
  },
  {
   "cell_type": "code",
   "execution_count": 134,
   "metadata": {},
   "outputs": [
    {
     "data": {
      "text/plain": [
       "array([0. , 0. , 3. , 1.5, 0. , 2.5])"
      ]
     },
     "execution_count": 134,
     "metadata": {},
     "output_type": "execute_result"
    }
   ],
   "source": [
    "ins.b"
   ]
  },
  {
   "cell_type": "code",
   "execution_count": 144,
   "metadata": {},
   "outputs": [
    {
     "name": "stdout",
     "output_type": "stream",
     "text": [
      "A = \n",
      "[[ 6.00000000e+00 -0.00000000e+00 -2.00000000e+00 -2.00000000e+00\n",
      "  -0.00000000e+00 -0.00000000e+00]\n",
      " [ 0.00000000e+00  6.00000000e+00 -1.00000000e+00  0.00000000e+00\n",
      "  -1.00000000e+00 -2.00000000e+00]\n",
      " [ 0.00000000e+00  0.00000000e+00  5.16666667e+00 -1.66666667e+00\n",
      "  -1.66666667e-01 -3.33333333e-01]\n",
      " [ 0.00000000e+00  0.00000000e+00  0.00000000e+00  5.79569892e+00\n",
      "  -1.05376344e+00 -1.10752688e+00]\n",
      " [ 0.00000000e+00  0.00000000e+00 -2.77555756e-17  0.00000000e+00\n",
      "   5.63636364e+00 -2.54545455e+00]\n",
      " [ 0.00000000e+00  0.00000000e+00 -5.55111512e-17  0.00000000e+00\n",
      "   0.00000000e+00  4.95062541e+00]] and b = [0.         0.         3.         2.46774194 0.54545455 3.4114549 ]\n",
      "A = \n",
      "[[ 6.00000000e+00 -0.00000000e+00 -2.00000000e+00 -2.00000000e+00\n",
      "  -0.00000000e+00 -0.00000000e+00]\n",
      " [ 0.00000000e+00  6.00000000e+00 -1.00000000e+00  0.00000000e+00\n",
      "  -1.00000000e+00 -2.00000000e+00]\n",
      " [ 0.00000000e+00  0.00000000e+00  5.16666667e+00 -1.66666667e+00\n",
      "  -1.66666667e-01 -3.33333333e-01]\n",
      " [ 0.00000000e+00  0.00000000e+00  0.00000000e+00  5.79569892e+00\n",
      "  -1.05376344e+00 -1.10752688e+00]\n",
      " [ 0.00000000e+00  0.00000000e+00 -2.77555756e-17  0.00000000e+00\n",
      "   5.63636364e+00 -2.54545455e+00]\n",
      " [ 0.00000000e+00  0.00000000e+00 -5.55111512e-17  0.00000000e+00\n",
      "   0.00000000e+00  4.95062541e+00]] and b = [0.         0.         3.         2.46774194 0.54545455 3.4114549 ]\n",
      "A = \n",
      "[[ 6.00000000e+00 -0.00000000e+00 -2.00000000e+00 -2.00000000e+00\n",
      "  -0.00000000e+00 -0.00000000e+00]\n",
      " [ 0.00000000e+00  6.00000000e+00 -1.00000000e+00  0.00000000e+00\n",
      "  -1.00000000e+00 -2.00000000e+00]\n",
      " [ 0.00000000e+00  0.00000000e+00  5.16666667e+00 -1.66666667e+00\n",
      "  -1.66666667e-01 -3.33333333e-01]\n",
      " [ 0.00000000e+00  0.00000000e+00  0.00000000e+00  5.79569892e+00\n",
      "  -1.05376344e+00 -1.10752688e+00]\n",
      " [ 0.00000000e+00  0.00000000e+00  0.00000000e+00 -8.95341149e-18\n",
      "   5.63636364e+00 -2.54545455e+00]\n",
      " [ 0.00000000e+00  0.00000000e+00  0.00000000e+00 -1.79068230e-17\n",
      "  -1.79068230e-18  4.95062541e+00]] and b = [0.         0.         3.         2.46774194 0.54545455 3.4114549 ]\n",
      "A = \n",
      "[[ 6.00000000e+00 -0.00000000e+00 -2.00000000e+00 -2.00000000e+00\n",
      "  -0.00000000e+00 -0.00000000e+00]\n",
      " [ 0.00000000e+00  6.00000000e+00 -1.00000000e+00  0.00000000e+00\n",
      "  -1.00000000e+00 -2.00000000e+00]\n",
      " [ 0.00000000e+00  0.00000000e+00  5.16666667e+00 -1.66666667e+00\n",
      "  -1.66666667e-01 -3.33333333e-01]\n",
      " [ 0.00000000e+00  0.00000000e+00  0.00000000e+00  5.79569892e+00\n",
      "  -1.05376344e+00 -1.10752688e+00]\n",
      " [ 0.00000000e+00  0.00000000e+00  0.00000000e+00  0.00000000e+00\n",
      "   5.63636364e+00 -2.54545455e+00]\n",
      " [ 0.00000000e+00  0.00000000e+00  0.00000000e+00  0.00000000e+00\n",
      "  -5.04646829e-18  4.95062541e+00]] and b = [0.         0.         3.         2.46774194 0.54545455 3.4114549 ]\n",
      "A = \n",
      "[[ 6.         -0.         -2.         -2.         -0.         -0.        ]\n",
      " [ 0.          6.         -1.          0.         -1.         -2.        ]\n",
      " [ 0.          0.          5.16666667 -1.66666667 -0.16666667 -0.33333333]\n",
      " [ 0.          0.          0.          5.79569892 -1.05376344 -1.10752688]\n",
      " [ 0.          0.          0.          0.          5.63636364 -2.54545455]\n",
      " [ 0.          0.          0.          0.          0.          4.95062541]] and b = [0.         0.         3.         2.46774194 0.54545455 3.4114549 ]\n"
     ]
    }
   ],
   "source": [
    "res = gauss(ins._cmm,ins.b)"
   ]
  },
  {
   "cell_type": "code",
   "execution_count": 139,
   "metadata": {},
   "outputs": [
    {
     "name": "stdout",
     "output_type": "stream",
     "text": [
      "['1', '1', '1', '4', '1']\n",
      "['1', '2', '38', '5', '17']\n",
      "gana 2\n",
      "['1', '2', '0', '6', '1']\n",
      "gana 6\n",
      "['1', '3', '34', '1', '21']\n",
      "gana 3\n",
      "['1', '3', '23', '4', '10']\n",
      "gana 3\n",
      "['1', '4', '31', '1', '6']\n",
      "gana 4\n",
      "['1', '5', '0', '6', '1']\n",
      "gana 6\n",
      "['1', '5', '38', '4', '23']\n",
      "gana 5\n",
      "['1', '6', '1', '2', '0']\n",
      "gana 6\n",
      "['1', '6', '1', '5', '0']\n",
      "gana 6\n",
      "['1', '4', '1', '6', '0']\n",
      "gana 4\n",
      "['1', '3', '1', '1', '0']\n",
      "gana 3\n",
      "['1', '3', '1', '2', '0']\n",
      "gana 3\n"
     ]
    }
   ],
   "source": [
    "ins2 = Instancia(\"tests/tests_nuestros/testEmpate.in\")"
   ]
  },
  {
   "cell_type": "code",
   "execution_count": 143,
   "metadata": {},
   "outputs": [
    {
     "data": {
      "text/plain": [
       "array([[0., 0., 2., 2., 0., 0.],\n",
       "       [0., 0., 1., 0., 1., 2.],\n",
       "       [2., 1., 0., 1., 0., 0.],\n",
       "       [2., 0., 1., 0., 1., 1.],\n",
       "       [0., 1., 0., 1., 0., 2.],\n",
       "       [0., 2., 0., 1., 2., 0.]])"
      ]
     },
     "execution_count": 143,
     "metadata": {},
     "output_type": "execute_result"
    }
   ],
   "source": [
    "ins2.enfrentamientos"
   ]
  },
  {
   "cell_type": "code",
   "execution_count": 145,
   "metadata": {},
   "outputs": [
    {
     "name": "stdout",
     "output_type": "stream",
     "text": [
      "A = \n",
      "[[ 6.00000000e+00 -0.00000000e+00 -2.00000000e+00 -2.00000000e+00\n",
      "  -0.00000000e+00 -0.00000000e+00]\n",
      " [ 0.00000000e+00  6.00000000e+00 -1.00000000e+00  0.00000000e+00\n",
      "  -1.00000000e+00 -2.00000000e+00]\n",
      " [ 0.00000000e+00  0.00000000e+00  5.16666667e+00 -1.66666667e+00\n",
      "  -1.66666667e-01 -3.33333333e-01]\n",
      " [ 0.00000000e+00  0.00000000e+00  0.00000000e+00  5.79569892e+00\n",
      "  -1.05376344e+00 -1.10752688e+00]\n",
      " [ 0.00000000e+00  0.00000000e+00 -2.77555756e-17  0.00000000e+00\n",
      "   5.63636364e+00 -2.54545455e+00]\n",
      " [ 0.00000000e+00  0.00000000e+00 -5.55111512e-17  0.00000000e+00\n",
      "   0.00000000e+00  4.95062541e+00]] and b = [-1.          0.          2.66666667  1.02688172  0.27272727  2.99144174]\n",
      "A = \n",
      "[[ 6.00000000e+00 -0.00000000e+00 -2.00000000e+00 -2.00000000e+00\n",
      "  -0.00000000e+00 -0.00000000e+00]\n",
      " [ 0.00000000e+00  6.00000000e+00 -1.00000000e+00  0.00000000e+00\n",
      "  -1.00000000e+00 -2.00000000e+00]\n",
      " [ 0.00000000e+00  0.00000000e+00  5.16666667e+00 -1.66666667e+00\n",
      "  -1.66666667e-01 -3.33333333e-01]\n",
      " [ 0.00000000e+00  0.00000000e+00  0.00000000e+00  5.79569892e+00\n",
      "  -1.05376344e+00 -1.10752688e+00]\n",
      " [ 0.00000000e+00  0.00000000e+00 -2.77555756e-17  0.00000000e+00\n",
      "   5.63636364e+00 -2.54545455e+00]\n",
      " [ 0.00000000e+00  0.00000000e+00 -5.55111512e-17  0.00000000e+00\n",
      "   0.00000000e+00  4.95062541e+00]] and b = [-1.          0.          2.66666667  1.02688172  0.27272727  2.99144174]\n",
      "A = \n",
      "[[ 6.00000000e+00 -0.00000000e+00 -2.00000000e+00 -2.00000000e+00\n",
      "  -0.00000000e+00 -0.00000000e+00]\n",
      " [ 0.00000000e+00  6.00000000e+00 -1.00000000e+00  0.00000000e+00\n",
      "  -1.00000000e+00 -2.00000000e+00]\n",
      " [ 0.00000000e+00  0.00000000e+00  5.16666667e+00 -1.66666667e+00\n",
      "  -1.66666667e-01 -3.33333333e-01]\n",
      " [ 0.00000000e+00  0.00000000e+00  0.00000000e+00  5.79569892e+00\n",
      "  -1.05376344e+00 -1.10752688e+00]\n",
      " [ 0.00000000e+00  0.00000000e+00  0.00000000e+00 -8.95341149e-18\n",
      "   5.63636364e+00 -2.54545455e+00]\n",
      " [ 0.00000000e+00  0.00000000e+00  0.00000000e+00 -1.79068230e-17\n",
      "  -1.79068230e-18  4.95062541e+00]] and b = [-1.          0.          2.66666667  1.02688172  0.27272727  2.99144174]\n",
      "A = \n",
      "[[ 6.00000000e+00 -0.00000000e+00 -2.00000000e+00 -2.00000000e+00\n",
      "  -0.00000000e+00 -0.00000000e+00]\n",
      " [ 0.00000000e+00  6.00000000e+00 -1.00000000e+00  0.00000000e+00\n",
      "  -1.00000000e+00 -2.00000000e+00]\n",
      " [ 0.00000000e+00  0.00000000e+00  5.16666667e+00 -1.66666667e+00\n",
      "  -1.66666667e-01 -3.33333333e-01]\n",
      " [ 0.00000000e+00  0.00000000e+00  0.00000000e+00  5.79569892e+00\n",
      "  -1.05376344e+00 -1.10752688e+00]\n",
      " [ 0.00000000e+00  0.00000000e+00  0.00000000e+00  0.00000000e+00\n",
      "   5.63636364e+00 -2.54545455e+00]\n",
      " [ 0.00000000e+00  0.00000000e+00  0.00000000e+00  0.00000000e+00\n",
      "  -5.04646829e-18  4.95062541e+00]] and b = [-1.          0.          2.66666667  1.02688172  0.27272727  2.99144174]\n",
      "A = \n",
      "[[ 6.         -0.         -2.         -2.         -0.         -0.        ]\n",
      " [ 0.          6.         -1.          0.         -1.         -2.        ]\n",
      " [ 0.          0.          5.16666667 -1.66666667 -0.16666667 -0.33333333]\n",
      " [ 0.          0.          0.          5.79569892 -1.05376344 -1.10752688]\n",
      " [ 0.          0.          0.          0.          5.63636364 -2.54545455]\n",
      " [ 0.          0.          0.          0.          0.          4.95062541]] and b = [-1.          0.          2.66666667  1.02688172  0.27272727  2.99144174]\n"
     ]
    }
   ],
   "source": [
    "res2=gauss(ins2._cmm,ins2.b)"
   ]
  },
  {
   "cell_type": "code",
   "execution_count": 146,
   "metadata": {},
   "outputs": [
    {
     "data": {
      "text/plain": [
       "array([[0.4912234 ],\n",
       "       [0.43803191],\n",
       "       [0.84202128],\n",
       "       [0.63164894],\n",
       "       [0.40797872],\n",
       "       [0.68909574]])"
      ]
     },
     "execution_count": 146,
     "metadata": {},
     "output_type": "execute_result"
    }
   ],
   "source": [
    "res"
   ]
  },
  {
   "cell_type": "code",
   "execution_count": 147,
   "metadata": {},
   "outputs": [
    {
     "data": {
      "text/plain": [
       "array([[0.17659574],\n",
       "       [0.36808511],\n",
       "       [0.6787234 ],\n",
       "       [0.35106383],\n",
       "       [0.3212766 ],\n",
       "       [0.60425532]])"
      ]
     },
     "execution_count": 147,
     "metadata": {},
     "output_type": "execute_result"
    }
   ],
   "source": [
    "res2"
   ]
  },
  {
   "cell_type": "code",
   "execution_count": 179,
   "metadata": {},
   "outputs": [],
   "source": [
    "flatten = lambda l: [item for sublist in l for item in sublist]"
   ]
  },
  {
   "cell_type": "code",
   "execution_count": 183,
   "metadata": {},
   "outputs": [],
   "source": [
    "resf=flatten(res)\n",
    "res2f=flatten(res2)"
   ]
  },
  {
   "cell_type": "code",
   "execution_count": 158,
   "metadata": {},
   "outputs": [],
   "source": [
    "\n",
    "import plotly.graph_objs as go\n",
    "from plotly.offline import download_plotlyjs, init_notebook_mode, plot, iplot\n",
    "import plotly.plotly as py"
   ]
  },
  {
   "cell_type": "code",
   "execution_count": 186,
   "metadata": {},
   "outputs": [
    {
     "data": {
      "text/plain": [
       "Layout({\n",
       "    'barmode': 'group'\n",
       "})"
      ]
     },
     "execution_count": 186,
     "metadata": {},
     "output_type": "execute_result"
    }
   ],
   "source": [
    "equipos=[1,2,3,4,5,6]\n",
    "fig = go.Figure(data=[\n",
    "    go.Bar(name='Sin contar empates', x=equipos, y=res2f),\n",
    "    go.Bar(name='Contando Empates', x=equipos, y=resf)\n",
    "])\n",
    "fig.layout.update(barmode='group')"
   ]
  },
  {
   "cell_type": "code",
   "execution_count": 187,
   "metadata": {},
   "outputs": [
    {
     "data": {
      "text/html": [
       "<script type=\"text/javascript\">window.PlotlyConfig = {MathJaxConfig: 'local'};</script><script type=\"text/javascript\">if (window.MathJax) {MathJax.Hub.Config({SVG: {font: \"STIX-Web\"}});}</script><script>requirejs.config({paths: { 'plotly': ['https://cdn.plot.ly/plotly-latest.min']},});if(!window._Plotly) {require(['plotly'],function(plotly) {window._Plotly=plotly;});}</script>"
      ],
      "text/vnd.plotly.v1+html": [
       "<script type=\"text/javascript\">window.PlotlyConfig = {MathJaxConfig: 'local'};</script><script type=\"text/javascript\">if (window.MathJax) {MathJax.Hub.Config({SVG: {font: \"STIX-Web\"}});}</script><script>requirejs.config({paths: { 'plotly': ['https://cdn.plot.ly/plotly-latest.min']},});if(!window._Plotly) {require(['plotly'],function(plotly) {window._Plotly=plotly;});}</script>"
      ]
     },
     "metadata": {},
     "output_type": "display_data"
    }
   ],
   "source": [
    "init_notebook_mode(connected=True)\n"
   ]
  },
  {
   "cell_type": "code",
   "execution_count": 188,
   "metadata": {},
   "outputs": [
    {
     "data": {
      "application/vnd.plotly.v1+json": {
       "config": {
        "linkText": "Export to plot.ly",
        "plotlyServerURL": "https://plot.ly",
        "showLink": false
       },
       "data": [
        {
         "name": "Sin contar empates",
         "type": "bar",
         "uid": "a1006572-14ea-4382-b82b-7ccdb4362a2e",
         "x": [
          1,
          2,
          3,
          4,
          5,
          6
         ],
         "y": [
          0.17659574468085112,
          0.3680851063829788,
          0.6787234042553193,
          0.35106382978723405,
          0.32127659574468087,
          0.6042553191489362
         ]
        },
        {
         "name": "Contando Empates",
         "type": "bar",
         "uid": "d1f305aa-90ba-4c87-98d0-d232a1eae37c",
         "x": [
          1,
          2,
          3,
          4,
          5,
          6
         ],
         "y": [
          0.4912234042553192,
          0.4380319148936171,
          0.8420212765957447,
          0.6316489361702128,
          0.40797872340425534,
          0.6890957446808511
         ]
        }
       ],
       "layout": {
        "autosize": true,
        "barmode": "group",
        "xaxis": {
         "autorange": true,
         "range": [
          0.5,
          6.5
         ],
         "type": "linear"
        },
        "yaxis": {
         "autorange": true,
         "range": [
          0,
          0.8863381858902575
         ],
         "type": "linear"
        }
       }
      },
      "image/png": "[encoded data removed]",
      "text/html": [
       "<div id=\"f4fb149a-c014-429b-9d9e-042d5c045c19\" style=\"height: 525px; width: 100%;\" class=\"plotly-graph-div\"></div><script type=\"text/javascript\">require([\"plotly\"], function(Plotly) { window.PLOTLYENV=window.PLOTLYENV || {};window.PLOTLYENV.BASE_URL=\"https://plot.ly\";Plotly.newPlot(\"f4fb149a-c014-429b-9d9e-042d5c045c19\", [{\"name\": \"Sin contar empates\", \"x\": [1, 2, 3, 4, 5, 6], \"y\": [0.17659574468085112, 0.3680851063829788, 0.6787234042553193, 0.35106382978723405, 0.32127659574468087, 0.6042553191489362], \"type\": \"bar\", \"uid\": \"a1006572-14ea-4382-b82b-7ccdb4362a2e\"}, {\"name\": \"Contando Empates\", \"x\": [1, 2, 3, 4, 5, 6], \"y\": [0.4912234042553192, 0.4380319148936171, 0.8420212765957447, 0.6316489361702128, 0.40797872340425534, 0.6890957446808511], \"type\": \"bar\", \"uid\": \"d1f305aa-90ba-4c87-98d0-d232a1eae37c\"}], {\"barmode\": \"group\"}, {\"showLink\": false, \"linkText\": \"Export to plot.ly\", \"plotlyServerURL\": \"https://plot.ly\"})});</script><script type=\"text/javascript\">window.addEventListener(\"resize\", function(){window._Plotly.Plots.resize(document.getElementById(\"f4fb149a-c014-429b-9d9e-042d5c045c19\"));});</script>"
      ],
      "text/vnd.plotly.v1+html": [
       "<div id=\"f4fb149a-c014-429b-9d9e-042d5c045c19\" style=\"height: 525px; width: 100%;\" class=\"plotly-graph-div\"></div><script type=\"text/javascript\">require([\"plotly\"], function(Plotly) { window.PLOTLYENV=window.PLOTLYENV || {};window.PLOTLYENV.BASE_URL=\"https://plot.ly\";Plotly.newPlot(\"f4fb149a-c014-429b-9d9e-042d5c045c19\", [{\"name\": \"Sin contar empates\", \"x\": [1, 2, 3, 4, 5, 6], \"y\": [0.17659574468085112, 0.3680851063829788, 0.6787234042553193, 0.35106382978723405, 0.32127659574468087, 0.6042553191489362], \"type\": \"bar\", \"uid\": \"a1006572-14ea-4382-b82b-7ccdb4362a2e\"}, {\"name\": \"Contando Empates\", \"x\": [1, 2, 3, 4, 5, 6], \"y\": [0.4912234042553192, 0.4380319148936171, 0.8420212765957447, 0.6316489361702128, 0.40797872340425534, 0.6890957446808511], \"type\": \"bar\", \"uid\": \"d1f305aa-90ba-4c87-98d0-d232a1eae37c\"}], {\"barmode\": \"group\"}, {\"showLink\": false, \"linkText\": \"Export to plot.ly\", \"plotlyServerURL\": \"https://plot.ly\"})});</script><script type=\"text/javascript\">window.addEventListener(\"resize\", function(){window._Plotly.Plots.resize(document.getElementById(\"f4fb149a-c014-429b-9d9e-042d5c045c19\"));});</script>"
      ]
     },
     "metadata": {},
     "output_type": "display_data"
    }
   ],
   "source": [
    "iplot(fig)"
   ]
  },
  {
   "cell_type": "code",
   "execution_count": null,
   "metadata": {},
   "outputs": [],
   "source": []
  }
 ],
 "metadata": {
  "kernelspec": {
   "display_name": "Python 3",
   "language": "python",
   "name": "python3"
  },
  "language_info": {
   "codemirror_mode": {
    "name": "ipython",
    "version": 3
   },
   "file_extension": ".py",
   "mimetype": "text/x-python",
   "name": "python",
   "nbconvert_exporter": "python",
   "pygments_lexer": "ipython3",
   "version": "3.7.4"
  }
 },
 "nbformat": 4,
 "nbformat_minor": 2
}
