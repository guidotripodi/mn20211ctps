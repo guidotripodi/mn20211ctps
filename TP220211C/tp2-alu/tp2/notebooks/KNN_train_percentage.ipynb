{
 "cells": [
  {
   "cell_type": "markdown",
   "metadata": {},
   "source": [
    "# KNN variando train percentage\n",
    "\n",
    "En este experimento corremos solo KNN sobre un porcentaje del dataset total"
   ]
  },
  {
   "cell_type": "code",
   "execution_count": null,
   "metadata": {},
   "outputs": [],
   "source": [
    "!cd .. && mkdir build\n",
    "!cd ../build/ && rm -rf *\n",
    "!cd ../build && cmake \\\n",
    "  -DPYTHON_EXECUTABLE=\"$(which python3)\" \\\n",
    "  -DCMAKE_BUILD_TYPE=Release ..\n",
    "!cd ../build && make install"
   ]
  },
  {
   "cell_type": "code",
   "execution_count": null,
   "metadata": {},
   "outputs": [],
   "source": [
    "!pwd"
   ]
  },
  {
   "cell_type": "code",
   "execution_count": 1,
   "metadata": {},
   "outputs": [],
   "source": [
    "import matplotlib.pyplot as plt\n",
    "import pandas as pd\n",
    "import numpy as np\n",
    "import seaborn as sns \n",
    "import metnum as mt\n",
    "import datetime\n",
    "import os\n",
    "from datetime import datetime\n",
    "from sklearn.neighbors import KNeighborsClassifier\n",
    "from numpy import savetxt\n",
    "from sklearn.metrics import accuracy_score\n",
    "from tqdm import tqdm\n"
   ]
  },
  {
   "cell_type": "code",
   "execution_count": 2,
   "metadata": {},
   "outputs": [],
   "source": [
    "#directory containing dataset\n",
    "DATA_DIR = '../data/'\n",
    "TRAIN_SET = DATA_DIR + 'train.csv'\n",
    "\n",
    "#percentage over total of train cases\n",
    "PERCENTAGE_OF_TRAIN_CASES = 1\n",
    "#neighbors for finding the mode in KNN\n",
    "N_NEIGHBORS = 3\n",
    "#components for PCA\n",
    "N_COMPONENTS =40\n",
    "#number of iterations to find eigenvalues and eigenvectors in power iteration\n",
    "N_ITERATIONS =5000\n",
    "#epsilon for power iteration\n",
    "EPSILON = 1e-10"
   ]
  },
  {
   "cell_type": "code",
   "execution_count": 3,
   "metadata": {},
   "outputs": [
    {
     "name": "stdout",
     "output_type": "stream",
     "text": [
      "Instancias de entrenamiento: 33600\n",
      "Instancias de validación: 8400\n"
     ]
    }
   ],
   "source": [
    "\n",
    "#directory for saving matrix files\n",
    "timestamp = datetime.now().strftime(\"%m_%d_%H_%M_%S\")\n",
    "DIRECTORY_NAME=\"{}\".format(timestamp)\n",
    "os.makedirs(DIRECTORY_NAME+\"/\", exist_ok=True)\n",
    "\n",
    "%load_ext autoreload\n",
    "%autoreload 2\n",
    "\n",
    "df_train = pd.read_csv(TRAIN_SET)\n",
    "\n",
    "TOTAL_TRAIN_CASES = int(PERCENTAGE_OF_TRAIN_CASES*len(df_train))\n",
    "\n",
    "#shuffle the train cases.\n",
    "df_train = df_train[0: TOTAL_TRAIN_CASES].sample(frac=1)\n",
    "\n",
    "# Uso values para mandar todo a arrays de numpy\n",
    "X = df_train[df_train.columns[1:]].values\n",
    "y = df_train[\"label\"].values.reshape(-1, 1)\n",
    "\n",
    "limit = int(0.8 * X.shape[0])\n",
    "\n",
    "X_train, y_train = X[:limit], y[:limit]\n",
    "X_test, y_test = X[limit:], y[limit:]\n",
    "\n",
    "assert len(X_train) == len(y_train)\n",
    "assert len(X_test) == len(y_test)\n",
    "\n",
    "print(f\"Instancias de entrenamiento: {len(X_train)}\")\n",
    "print(f\"Instancias de validación: {len(X_test)}\")"
   ]
  },
  {
   "cell_type": "code",
   "execution_count": 4,
   "metadata": {},
   "outputs": [
    {
     "name": "stderr",
     "output_type": "stream",
     "text": [
      "100%|██████████| 20/20 [4:49:49<00:00, 869.48s/it]"
     ]
    },
    {
     "name": "stdout",
     "output_type": "stream",
     "text": [
      "CPU times: user 4h 48min 31s, sys: 1min 23s, total: 4h 49min 55s\n",
      "Wall time: 4h 49min 49s\n"
     ]
    },
    {
     "name": "stderr",
     "output_type": "stream",
     "text": [
      "\n"
     ]
    }
   ],
   "source": [
    "%%time \n",
    "\n",
    "s = np.random.uniform(0,1,20)\n",
    "train_percentages = s.tolist()\n",
    "acc_list = []\n",
    "train_percentages_list = []\n",
    "\n",
    "for i in tqdm(train_percentages):\n",
    "    limit = int(i * X.shape[0])\n",
    "    X_train, y_train = X[:limit], y[:limit]\n",
    "    X_test, y_test = X[limit:], y[limit:]\n",
    "    \n",
    "    #Training the model and predicting the labels. \n",
    "    clf = mt.KNNClassifier(3)\n",
    "    clf.fit(X_train,y_train)\n",
    "    pred = clf.predict(X_test)\n",
    "    \n",
    "    \n",
    "    acc_list.append(accuracy_score(pred, y_test))\n",
    "    train_percentages_list.append(i)\n"
   ]
  },
  {
   "cell_type": "code",
   "execution_count": 5,
   "metadata": {},
   "outputs": [
    {
     "data": {
      "text/plain": [
       "[]"
      ]
     },
     "execution_count": 5,
     "metadata": {},
     "output_type": "execute_result"
    },
    {
     "data": {
      "image/png": "[encoded data removed]",
      "text/plain": [
       "<Figure size 720x432 with 1 Axes>"
      ]
     },
     "metadata": {
      "needs_background": "light"
     },
     "output_type": "display_data"
    }
   ],
   "source": [
    "from matplotlib import rcParams\n",
    "rcParams['figure.figsize'] = 10,6\n",
    "\n",
    "acc_data = {\n",
    "    'Porcentajes del train utilizado' : train_percentages_list,\n",
    "    'Accuracy' : acc_list\n",
    "}\n",
    "\n",
    "dfj = pd.DataFrame(acc_data)\n",
    "\n",
    "a = sns.lineplot(data = dfj, x = 'Porcentajes del train utilizado', y = 'Accuracy', color = 'blue')\n",
    "a = sns.scatterplot(data = dfj, x = 'Porcentajes del train utilizado', y = 'Accuracy')\n",
    "a.set_title('Accuracy al variar porcentaje utilizado para entrenar')\n",
    "a.plot()"
   ]
  }
 ],
 "metadata": {
  "kernelspec": {
   "display_name": "Python 3",
   "language": "python",
   "name": "python3"
  },
  "language_info": {
   "codemirror_mode": {
    "name": "ipython",
    "version": 3
   },
   "file_extension": ".py",
   "mimetype": "text/x-python",
   "name": "python",
   "nbconvert_exporter": "python",
   "pygments_lexer": "ipython3",
   "version": "3.7.7"
  }
 },
 "nbformat": 4,
 "nbformat_minor": 4
}
