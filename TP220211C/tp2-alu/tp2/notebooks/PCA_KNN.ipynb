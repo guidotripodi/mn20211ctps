{
 "cells": [
  {
   "cell_type": "code",
   "execution_count": 1,
   "metadata": {},
   "outputs": [
    {
     "name": "stdout",
     "output_type": "stream",
     "text": [
      "mkdir: cannot create directory ‘build’: File exists\n",
      "-- The C compiler identification is GNU 10.2.0\n",
      "-- The CXX compiler identification is GNU 10.2.0\n",
      "-- Detecting C compiler ABI info\n",
      "-- Detecting C compiler ABI info - done\n",
      "-- Check for working C compiler: /usr/bin/cc - skipped\n",
      "-- Detecting C compile features\n",
      "-- Detecting C compile features - done\n",
      "-- Detecting CXX compiler ABI info\n",
      "-- Detecting CXX compiler ABI info - done\n",
      "-- Check for working CXX compiler: /usr/bin/c++ - skipped\n",
      "-- Detecting CXX compile features\n",
      "-- Detecting CXX compile features - done\n",
      "Release mode\n",
      "-- Found PythonInterp: /home/nicolas/Development/College/mn20211ctps/TP220211C/tp2-alu/tp2/env/bin/python3 (found version \"3.7.7\") \n",
      "-- Found PythonLibs: /home/nicolas/.pyenv/versions/3.7.7/lib/libpython3.7m.a\n",
      "-- pybind11 v2.2.4\n",
      "-- Performing Test HAS_FLTO\n",
      "-- Performing Test HAS_FLTO - Success\n",
      "-- LTO enabled\n",
      "CMAKE_INSTALL_PREFIX=/home/nicolas/Development/College/mn20211ctps/TP220211C/tp2-alu/tp2\n",
      "-- Configuring done\n",
      "-- Generating done\n",
      "-- Build files have been written to: /home/nicolas/Development/College/mn20211ctps/TP220211C/tp2-alu/tp2/build\n",
      "[ 10%] \u001b[32mBuilding CXX object CMakeFiles/tp2.dir/src/main.cpp.o\u001b[0m\n",
      "[ 20%] \u001b[32mBuilding CXX object CMakeFiles/tp2.dir/src/knn.cpp.o\u001b[0m\n",
      "[ 30%] \u001b[32mBuilding CXX object CMakeFiles/tp2.dir/src/pca.cpp.o\u001b[0m\n",
      "[ 40%] \u001b[32mBuilding CXX object CMakeFiles/tp2.dir/src/eigen.cpp.o\u001b[0m\n",
      "[ 50%] \u001b[32m\u001b[1mLinking CXX executable tp2\u001b[0m\n",
      "[ 50%] Built target tp2\n",
      "[ 60%] \u001b[32mBuilding CXX object CMakeFiles/metnum.dir/src/metnum.cpp.o\u001b[0m\n",
      "[ 70%] \u001b[32mBuilding CXX object CMakeFiles/metnum.dir/src/knn.cpp.o\u001b[0m\n",
      "[ 80%] \u001b[32mBuilding CXX object CMakeFiles/metnum.dir/src/pca.cpp.o\u001b[0m\n",
      "[ 90%] \u001b[32mBuilding CXX object CMakeFiles/metnum.dir/src/eigen.cpp.o\u001b[0m\n",
      "[100%] \u001b[32m\u001b[1mLinking CXX shared module metnum.cpython-37m-x86_64-linux-gnu.so\u001b[0m\n",
      "[100%] Built target metnum\n",
      "\u001b[36mInstall the project...\u001b[0m\n",
      "-- Install configuration: \"Release\"\n",
      "-- Installing: /home/nicolas/Development/College/mn20211ctps/TP220211C/tp2-alu/tp2/notebooks/metnum.cpython-37m-x86_64-linux-gnu.so\n",
      "/home/nicolas/Development/College/mn20211ctps/TP220211C/tp2-alu/tp2/notebooks\n",
      "Python 3.7.7\n"
     ]
    }
   ],
   "source": [
    "!cd .. && git submodule init\n",
    "!cd .. && git submodule update\n",
    "!cd .. && mkdir build\n",
    "!cd ../build/ && rm -rf *\n",
    "!cd ../build && cmake \\\n",
    "  -DPYTHON_EXECUTABLE=\"$(which python3)\" \\\n",
    "  -DCMAKE_BUILD_TYPE=Release ..\n",
    "!cd ../build && make install\n",
    "\n",
    "# Verifico la correcta instalación. Si no falla el import está OK\n",
    "!pwd\n",
    "!python3 --version"
   ]
  },
  {
   "cell_type": "code",
   "execution_count": 3,
   "metadata": {},
   "outputs": [
    {
     "name": "stderr",
     "output_type": "stream",
     "text": [
      "/home/nicolas/Development/College/mn20211ctps/TP220211C/tp2-alu/tp2/env/lib/python3.7/site-packages/scipy/__init__.py:140: UserWarning: A NumPy version >=1.16.5 and <1.23.0 is required for this version of SciPy (detected version 1.16.3)\n",
      "  UserWarning)\n"
     ]
    }
   ],
   "source": [
    "import matplotlib.pyplot as plt\n",
    "import pandas as pd\n",
    "import numpy as np\n",
    "import metnum as mt\n",
    "import os\n",
    "import seaborn as sns\n",
    "from datetime import datetime\n",
    "from sklearn.neighbors import KNeighborsClassifier\n",
    "from sklearn.metrics import accuracy_score\n",
    "from sklearn.metrics import cohen_kappa_score\n",
    "from tqdm import tqdm"
   ]
  },
  {
   "cell_type": "code",
   "execution_count": 4,
   "metadata": {},
   "outputs": [],
   "source": [
    "#directory containing dataset\n",
    "DATA_DIR = '../data/'\n",
    "TRAIN_SET = DATA_DIR + 'train.csv'\n",
    "\n",
    "#neighbors for finding the mode in KNN\n",
    "N_NEIGHBORS = 100\n",
    "#components for PCA\n",
    "N_COMPONENTS=40\n",
    "#number of iterations to find eigenvalues and eigenvectors in power iteration\n",
    "N_ITERATIONS=5000\n",
    "#epsilon for power iteration\n",
    "EPSILON=1e-10\n",
    "#Training / testing percentage\n",
    "limit = int(0.8 * 42000)"
   ]
  },
  {
   "cell_type": "code",
   "execution_count": 5,
   "metadata": {},
   "outputs": [
    {
     "name": "stdout",
     "output_type": "stream",
     "text": [
      "Instancias de entrenamiento: 33600\n",
      "Instancias de validación: 8400\n"
     ]
    }
   ],
   "source": [
    "df_train = pd.read_csv(TRAIN_SET)\n",
    "\n",
    "#shuffle the train cases.\n",
    "df_train = df_train.sample(frac=1)\n",
    "\n",
    "# Uso values para mandar todo a arrays de numpy\n",
    "X = df_train[df_train.columns[1:]].values\n",
    "y = df_train[\"label\"].values.reshape(-1, 1)\n",
    "\n",
    "X_train, y_train = X[:limit], y[:limit]\n",
    "X_test, y_test = X[limit:], y[limit:]\n",
    "\n",
    "assert len(X_train) == len(y_train)\n",
    "assert len(X_test) == len(y_test)\n",
    "\n",
    "\n",
    "print(f\"Instancias de entrenamiento: {len(X_train)}\")\n",
    "print(f\"Instancias de validación: {len(X_test)}\")"
   ]
  },
  {
   "cell_type": "markdown",
   "metadata": {},
   "source": [
    "### Experimentacion kNN vs PCA + kNN para igual cantidad de componentes"
   ]
  },
  {
   "cell_type": "markdown",
   "metadata": {},
   "source": [
    "### testeo PCA para valores entre 1 y 10 con train / total data = 0.85 y set completo"
   ]
  },
  {
   "cell_type": "code",
   "execution_count": null,
   "metadata": {},
   "outputs": [
    {
     "name": "stderr",
     "output_type": "stream",
     "text": [
      "  1%|▏         | 1/69 [00:35<40:02, 35.34s/it]"
     ]
    }
   ],
   "source": [
    "%%time\n",
    "from time import time\n",
    "\n",
    "limit = int(0.85 * 42000)\n",
    "\n",
    "alphas = [i for i in range(1,70)]\n",
    "accs = []\n",
    "cohens = []\n",
    "times = []\n",
    "\n",
    "for alpha in tqdm(alphas):\n",
    "    start_time = time()\n",
    "    \n",
    "    df_train = pd.read_csv(TRAIN_SET)\n",
    "\n",
    "    #shuffle the train cases.\n",
    "    df_train = df_train.sample(frac=1)\n",
    "\n",
    "    X = df_train[df_train.columns[1:]].values\n",
    "    y = df_train[\"label\"].values.reshape(-1, 1)\n",
    "    \n",
    "    pca = mt.PCA(alpha,N_ITERATIONS,EPSILON)\n",
    "    pca.fit(X)\n",
    "    X_pca = pca.transform(X)\n",
    "    \n",
    "    X_train, y_train = X_pca[:limit], y[:limit]\n",
    "    X_test, y_test = X_pca[limit:], y[limit:]\n",
    "    \n",
    "    clf = mt.KNNClassifier(3)\n",
    "    clf.fit(X_train,y_train)\n",
    "    pred = clf.predict(X_test)\n",
    "    \n",
    "    end_time = time()\n",
    "    \n",
    "    accs.append(accuracy_score(pred,y_test))\n",
    "    cohens.append(cohen_kappa_score(pred,y_test))\n",
    "    times.append(end_time - start_time)"
   ]
  },
  {
   "cell_type": "code",
   "execution_count": 5,
   "metadata": {},
   "outputs": [
    {
     "name": "stdout",
     "output_type": "stream",
     "text": [
      "0.9665079365079365\n"
     ]
    }
   ],
   "source": [
    "df_train = pd.read_csv(TRAIN_SET)\n",
    "\n",
    "#shuffle the train cases.\n",
    "df_train = df_train.sample(frac=1)\n",
    "\n",
    "# Uso values para mandar todo a arrays de numpy\n",
    "X = df_train[df_train.columns[1:]].values\n",
    "y = df_train[\"label\"].values.reshape(-1, 1)\n",
    "\n",
    "limit = int(0.85 * 42000)\n",
    "\n",
    "X_train, y_train = X[:limit], y[:limit]\n",
    "X_test, y_test = X[limit:], y[limit:]\n",
    "\n",
    "clf = mt.KNNClassifier(3)\n",
    "clf.fit(X_train,y_train)\n",
    "pred = clf.predict(X_test)\n",
    "\n",
    "print(accuracy_score(pred,y_test))\n",
    "\n",
    "knn_sin_pca = [accuracy_score(pred,y_test) for i in range (1,70)]"
   ]
  },
  {
   "cell_type": "code",
   "execution_count": 7,
   "metadata": {},
   "outputs": [
    {
     "data": {
      "image/png": "[encoded data removed]",
      "text/plain": [
       "<Figure size 576x360 with 1 Axes>"
      ]
     },
     "metadata": {},
     "output_type": "display_data"
    }
   ],
   "source": [
    "plt.figure(figsize=(8,5))\n",
    "plt.style.use('ggplot')\n",
    "plt.plot(alphas, accs)\n",
    "plt.plot(alphas, knn_sin_pca, linestyle = 'dashed')\n",
    "# plt.plot(alphas, times)\n",
    "plt.xlabel('valor de alpha')\n",
    "plt.ylabel('Accuracy')\n",
    "plt.title('PCA + KNN para distintos valores de alpha')\n",
    "plt.savefig(\"3_fold_cross_validation_cant_vecinos.png\")\n",
    "plt.legend(['PCA + kNN', 'kNN sin PCA'])\n",
    "\n",
    "plt.savefig('pca_knn_dist_alpha_acc')"
   ]
  },
  {
   "cell_type": "code",
   "execution_count": 53,
   "metadata": {},
   "outputs": [
    {
     "name": "stdout",
     "output_type": "stream",
     "text": [
      "0.9638371163237744\n",
      "CPU times: user 4min 55s, sys: 473 ms, total: 4min 56s\n",
      "Wall time: 4min 55s\n"
     ]
    }
   ],
   "source": [
    "%%time\n",
    "df_train = pd.read_csv(TRAIN_SET)\n",
    "\n",
    "#shuffle the train cases.\n",
    "df_train = df_train.sample(frac=1)\n",
    "\n",
    "# Uso values para mandar todo a arrays de numpy\n",
    "X = df_train[df_train.columns[1:]].values\n",
    "y = df_train[\"label\"].values.reshape(-1, 1)\n",
    "\n",
    "limit = int(0.85 * 42000)\n",
    "\n",
    "X_train, y_train = X[:limit], y[:limit]\n",
    "X_test, y_test = X[limit:], y[limit:]\n",
    "\n",
    "clf = mt.KNNClassifier(3)\n",
    "clf.fit(X_train,y_train)\n",
    "pred_cohens = clf.predict(X_test)\n",
    "\n",
    "print(cohen_kappa_score(pred_cohens ,y_test))\n",
    "\n",
    "knn_sin_pca_cohen = [cohen_kappa_score(pred_cohens ,y_test) for i in range (1,70)]"
   ]
  },
  {
   "cell_type": "code",
   "execution_count": 52,
   "metadata": {},
   "outputs": [
    {
     "data": {
      "image/png": "[encoded data removed]",
      "text/plain": [
       "<Figure size 576x360 with 1 Axes>"
      ]
     },
     "metadata": {},
     "output_type": "display_data"
    }
   ],
   "source": [
    "plt.figure(figsize=(8,5))\n",
    "plt.style.use('ggplot')\n",
    "plt.plot(alphas, accs)\n",
    "plt.plot(alphas, knn_sin_pca_cohen, linestyle = 'dashed')\n",
    "# plt.plot(alphas, times)\n",
    "plt.xlabel('valor de alpha')\n",
    "plt.ylabel('Cohen\\'s Kappa Score')\n",
    "plt.title('PCA + KNN para distinos valores de alpha')\n",
    "plt.savefig(\"3_fold_cross_validation_cant_vecinos.jpg\")\n",
    "plt.legend(['PCA + kNN' , 'kNN sin PCA'])\n",
    "\n",
    "plt.savefig('pca_knn_dist_alpha_acc_cohen')"
   ]
  },
  {
   "cell_type": "code",
   "execution_count": 34,
   "metadata": {},
   "outputs": [
    {
     "data": {
      "image/png": "[encoded data removed]",
      "text/plain": [
       "<Figure size 576x360 with 1 Axes>"
      ]
     },
     "metadata": {},
     "output_type": "display_data"
    }
   ],
   "source": [
    "plt.figure(figsize=(8,5))\n",
    "plt.style.use('ggplot')\n",
    "plt.bar(alphas, times, color = 'orange')\n",
    "plt.xlabel('valor de alpha')\n",
    "plt.ylabel('Tiempo (en segundos)')\n",
    "plt.title('PCA + KNN para distintos valores de alpha')\n",
    "plt.savefig(\"pca_knn_tiempo\")\n",
    "\n"
   ]
  },
  {
   "cell_type": "code",
   "execution_count": 54,
   "metadata": {},
   "outputs": [
    {
     "name": "stdout",
     "output_type": "stream",
     "text": [
      "25.693418741226196\n"
     ]
    }
   ],
   "source": [
    "limit = int(0.85 * 42000)\n",
    "\n",
    "start_time = time()\n",
    "    \n",
    "df_train = pd.read_csv(TRAIN_SET)\n",
    "\n",
    "#shuffle the train cases.\n",
    "df_train = df_train.sample(frac=1)\n",
    "\n",
    "X = df_train[df_train.columns[1:]].values\n",
    "y = df_train[\"label\"].values.reshape(-1, 1)\n",
    "    \n",
    "pca = mt.PCA(25,N_ITERATIONS,EPSILON)\n",
    "pca.fit(X)\n",
    "X_pca = pca.transform(X)\n",
    "    \n",
    "X_train, y_train = X_pca[:limit], y[:limit]\n",
    "X_test, y_test = X_pca[limit:], y[limit:]\n",
    "    \n",
    "clf = mt.KNNClassifier(3)\n",
    "clf.fit(X_train,y_train)\n",
    "pred = clf.predict(X_test)\n",
    "    \n",
    "end_time = time()\n",
    "\n",
    "print(end_time - start_time)"
   ]
  }
 ],
 "metadata": {
  "kernelspec": {
   "display_name": "Python 3",
   "language": "python",
   "name": "python3"
  },
  "language_info": {
   "codemirror_mode": {
    "name": "ipython",
    "version": 3
   },
   "file_extension": ".py",
   "mimetype": "text/x-python",
   "name": "python",
   "nbconvert_exporter": "python",
   "pygments_lexer": "ipython3",
   "version": "3.7.7"
  }
 },
 "nbformat": 4,
 "nbformat_minor": 4
}
