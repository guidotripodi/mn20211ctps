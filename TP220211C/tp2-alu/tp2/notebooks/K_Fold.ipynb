{
 "cells": [
  {
   "cell_type": "code",
   "execution_count": 1,
   "metadata": {},
   "outputs": [
    {
     "name": "stdout",
     "output_type": "stream",
     "text": [
      "mkdir: cannot create directory ‘build’: File exists\n",
      "-- The C compiler identification is GNU 10.2.0\n",
      "-- The CXX compiler identification is GNU 10.2.0\n",
      "-- Detecting C compiler ABI info\n",
      "-- Detecting C compiler ABI info - done\n",
      "-- Check for working C compiler: /usr/bin/cc - skipped\n",
      "-- Detecting C compile features\n",
      "-- Detecting C compile features - done\n",
      "-- Detecting CXX compiler ABI info\n",
      "-- Detecting CXX compiler ABI info - done\n",
      "-- Check for working CXX compiler: /usr/bin/c++ - skipped\n",
      "-- Detecting CXX compile features\n",
      "-- Detecting CXX compile features - done\n",
      "Release mode\n",
      "-- Found PythonInterp: /home/nicolas/Development/College/mn-2020-2c/tp2/env/bin/python3 (found version \"3.7.7\") \n",
      "-- Found PythonLibs: /home/nicolas/.pyenv/versions/3.7.7/lib/libpython3.7m.a\n",
      "-- pybind11 v2.2.4\n",
      "-- Performing Test HAS_FLTO\n",
      "-- Performing Test HAS_FLTO - Success\n",
      "-- LTO enabled\n",
      "CMAKE_INSTALL_PREFIX=/home/nicolas/Development/College/mn-2020-2c/tp2\n",
      "-- Configuring done\n",
      "-- Generating done\n",
      "-- Build files have been written to: /home/nicolas/Development/College/mn-2020-2c/tp2/build\n",
      "\u001b[35m\u001b[1mScanning dependencies of target tp2\u001b[0m\n",
      "[ 10%] \u001b[32mBuilding CXX object CMakeFiles/tp2.dir/src/main.cpp.o\u001b[0m\n",
      "[ 20%] \u001b[32mBuilding CXX object CMakeFiles/tp2.dir/src/knn.cpp.o\u001b[0m\n",
      "[ 30%] \u001b[32mBuilding CXX object CMakeFiles/tp2.dir/src/pca.cpp.o\u001b[0m\n",
      "[ 40%] \u001b[32mBuilding CXX object CMakeFiles/tp2.dir/src/eigen.cpp.o\u001b[0m\n",
      "[ 50%] \u001b[32m\u001b[1mLinking CXX executable tp2\u001b[0m\n",
      "[ 50%] Built target tp2\n",
      "\u001b[35m\u001b[1mScanning dependencies of target metnum\u001b[0m\n",
      "[ 60%] \u001b[32mBuilding CXX object CMakeFiles/metnum.dir/src/metnum.cpp.o\u001b[0m\n",
      "[ 70%] \u001b[32mBuilding CXX object CMakeFiles/metnum.dir/src/knn.cpp.o\u001b[0m\n",
      "[ 80%] \u001b[32mBuilding CXX object CMakeFiles/metnum.dir/src/pca.cpp.o\u001b[0m\n",
      "[ 90%] \u001b[32mBuilding CXX object CMakeFiles/metnum.dir/src/eigen.cpp.o\u001b[0m\n",
      "[100%] \u001b[32m\u001b[1mLinking CXX shared module metnum.cpython-37m-x86_64-linux-gnu.so\u001b[0m\n",
      "[100%] Built target metnum\n",
      "\u001b[36mInstall the project...\u001b[0m\n",
      "-- Install configuration: \"Release\"\n",
      "-- Installing: /home/nicolas/Development/College/mn-2020-2c/tp2/notebooks/metnum.cpython-37m-x86_64-linux-gnu.so\n",
      "/home/nicolas/Development/College/mn-2020-2c/tp2/notebooks\n",
      "Python 3.7.7\n"
     ]
    }
   ],
   "source": [
    "!cd .. && mkdir build\n",
    "!cd ../build/ && rm -rf *\n",
    "!cd ../build && cmake \\\n",
    "  -DPYTHON_EXECUTABLE=\"$(which python3)\" \\\n",
    "  -DCMAKE_BUILD_TYPE=Release ..\n",
    "!cd ../build && make install\n",
    "\n",
    "# Verifico la correcta instalación. Si no falla el import está OK\n",
    "!pwd\n",
    "!python3 --version"
   ]
  },
  {
   "cell_type": "code",
   "execution_count": 2,
   "metadata": {},
   "outputs": [],
   "source": [
    "import matplotlib.pyplot as plt\n",
    "import pandas as pd\n",
    "import numpy as np\n",
    "import metnum as mt\n",
    "import os\n",
    "import seaborn as sns\n",
    "from datetime import datetime\n",
    "from sklearn.neighbors import KNeighborsClassifier\n",
    "from sklearn.metrics import accuracy_score\n",
    "from sklearn.metrics import cohen_kappa_score\n",
    "from sklearn.model_selection import KFold\n",
    "from tqdm import tqdm\n",
    "\n",
    "#percentage over total of train cases\n",
    "PERCENTAGE_OF_TRAIN_CASES = 1\n",
    "#neighbors for finding the mode in KNN\n",
    "N_NEIGHBORS = 1\n",
    "#components for PCA\n",
    "N_COMPONENTS=40\n",
    "#number of iterations to find eigenvalues and eigenvectors in power iteration\n",
    "N_ITERATIONS=5000\n",
    "#epsilon for power iteration\n",
    "EPSILON=1e-10"
   ]
  },
  {
   "cell_type": "code",
   "execution_count": 3,
   "metadata": {},
   "outputs": [
    {
     "name": "stdout",
     "output_type": "stream",
     "text": [
      "Instancias de entrenamiento: 33600\n",
      "Instancias de validación: 8400\n"
     ]
    }
   ],
   "source": [
    "#directory for saving matrix files\n",
    "timestamp = datetime.now().strftime(\"%m_%d_%H_%M_%S\")\n",
    "DIRECTORY_NAME=\"{}\".format(timestamp)\n",
    "os.makedirs(DIRECTORY_NAME+\"/\", exist_ok=True)\n",
    "\n",
    "%load_ext autoreload\n",
    "%autoreload 2\n",
    "\n",
    "df_train = pd.read_csv(\"../data/train.csv\")\n",
    "\n",
    "TOTAL_TRAIN_CASES = int(PERCENTAGE_OF_TRAIN_CASES*len(df_train))\n",
    "\n",
    "#shuffle the train cases.\n",
    "df_train = df_train[0: TOTAL_TRAIN_CASES].sample(frac=1)\n",
    "\n",
    "# Uso values para mandar todo a arrays de numpy\n",
    "X = df_train[df_train.columns[1:]].values\n",
    "y = df_train[\"label\"].values.reshape(-1, 1)\n",
    "\n",
    "limit = int(0.8 * X.shape[0]) \n",
    "\n",
    "X_train, y_train = X[:limit], y[:limit]\n",
    "X_val, y_val = X[limit:], y[limit:]\n",
    "\n",
    "assert len(X_train) == len(y_train)\n",
    "assert len(X_val) == len(y_val)\n",
    "print(f\"Instancias de entrenamiento: {len(X_train)}\")\n",
    "print(f\"Instancias de validación: {len(X_val)}\")"
   ]
  },
  {
   "cell_type": "code",
   "execution_count": null,
   "metadata": {},
   "outputs": [],
   "source": [
    "#Individual Tests\n",
    "\n",
    "clf = mt.KNNClassifier(N_NEIGHBORS)\n",
    "clf.fit(X_train, y_train)\n",
    "y_pred = clf.predict(X_val)\n",
    "acc = accuracy_score(y_val, y_pred)\n",
    "cohen = cohen_kappa_score(y_val, y_pred)\n",
    "\n",
    "print(acc)\n",
    "print(cohen)\n",
    "\n"
   ]
  },
  {
   "cell_type": "markdown",
   "metadata": {},
   "source": [
    "## Experimentación 3-Fold cross-validation "
   ]
  },
  {
   "cell_type": "code",
   "execution_count": 4,
   "metadata": {},
   "outputs": [
    {
     "name": "stderr",
     "output_type": "stream",
     "text": [
      "  0%|          | 0/16 [00:00<?, ?it/s]\n",
      "  0%|          | 0/3 [00:00<?, ?it/s]\u001b[A\n",
      " 33%|███▎      | 1/3 [15:20<30:41, 920.87s/it]\u001b[A\n",
      " 67%|██████▋   | 2/3 [29:38<15:01, 901.94s/it]\u001b[A\n",
      "100%|██████████| 3/3 [43:52<00:00, 877.59s/it]\n",
      "  6%|▋         | 1/16 [43:52<10:58:11, 2632.76s/it]\n",
      "  0%|          | 0/3 [00:00<?, ?it/s]\u001b[A\n",
      " 33%|███▎      | 1/3 [14:13<28:26, 853.09s/it]\u001b[A\n",
      " 67%|██████▋   | 2/3 [28:25<14:12, 852.86s/it]\u001b[A\n",
      "100%|██████████| 3/3 [42:40<00:00, 853.56s/it]\n",
      " 12%|█▎        | 2/16 [1:26:33<10:09:16, 2611.14s/it]\n",
      "  0%|          | 0/3 [00:00<?, ?it/s]\u001b[A\n",
      " 33%|███▎      | 1/3 [14:14<28:29, 854.86s/it]\u001b[A\n",
      " 67%|██████▋   | 2/3 [28:43<14:19, 859.05s/it]\u001b[A\n",
      "100%|██████████| 3/3 [43:08<00:00, 862.84s/it]\n",
      " 19%|█▉        | 3/16 [2:09:41<9:24:16, 2604.35s/it] \n",
      "  0%|          | 0/3 [00:00<?, ?it/s]\u001b[A\n",
      " 33%|███▎      | 1/3 [14:27<28:55, 867.80s/it]\u001b[A\n",
      " 67%|██████▋   | 2/3 [28:54<14:27, 867.39s/it]\u001b[A\n",
      "100%|██████████| 3/3 [43:19<00:00, 866.36s/it]\n",
      " 25%|██▌       | 4/16 [2:53:01<8:40:33, 2602.77s/it]\n",
      "  0%|          | 0/3 [00:00<?, ?it/s]\u001b[A\n",
      " 33%|███▎      | 1/3 [14:24<28:49, 864.63s/it]\u001b[A\n",
      " 67%|██████▋   | 2/3 [28:50<14:24, 864.99s/it]\u001b[A\n",
      "100%|██████████| 3/3 [43:12<00:00, 864.26s/it]\n",
      " 31%|███▏      | 5/16 [3:36:13<7:56:37, 2599.78s/it]\n",
      "  0%|          | 0/3 [00:00<?, ?it/s]\u001b[A\n",
      " 33%|███▎      | 1/3 [14:23<28:46, 863.46s/it]\u001b[A\n",
      " 67%|██████▋   | 2/3 [28:45<14:23, 863.02s/it]\u001b[A\n",
      "100%|██████████| 3/3 [43:03<00:00, 861.22s/it]\n",
      " 38%|███▊      | 6/16 [4:19:17<7:12:29, 2594.94s/it]\n",
      "  0%|          | 0/3 [00:00<?, ?it/s]\u001b[A\n",
      " 33%|███▎      | 1/3 [14:28<28:56, 868.22s/it]\u001b[A\n",
      " 67%|██████▋   | 2/3 [28:42<14:24, 864.02s/it]\u001b[A\n",
      "100%|██████████| 3/3 [42:56<00:00, 858.70s/it]\n",
      " 44%|████▍     | 7/16 [5:02:13<6:28:23, 2589.29s/it]\n",
      "  0%|          | 0/3 [00:00<?, ?it/s]\u001b[A\n",
      " 33%|███▎      | 1/3 [14:15<28:31, 855.55s/it]\u001b[A\n",
      " 67%|██████▋   | 2/3 [28:32<14:16, 856.10s/it]\u001b[A\n",
      "100%|██████████| 3/3 [42:57<00:00, 859.22s/it]\n",
      " 50%|█████     | 8/16 [5:45:11<5:44:46, 2585.80s/it]\n",
      "  0%|          | 0/3 [00:00<?, ?it/s]\u001b[A\n",
      " 33%|███▎      | 1/3 [15:49<31:39, 949.60s/it]\u001b[A\n",
      " 67%|██████▋   | 2/3 [30:18<15:25, 925.36s/it]\u001b[A\n",
      "100%|██████████| 3/3 [44:41<00:00, 893.74s/it]\n",
      " 56%|█████▋    | 9/16 [6:29:52<5:05:01, 2614.43s/it]\n",
      "  0%|          | 0/3 [00:00<?, ?it/s]\u001b[A\n",
      " 33%|███▎      | 1/3 [15:18<30:36, 918.39s/it]\u001b[A\n",
      " 67%|██████▋   | 2/3 [29:48<15:04, 904.05s/it]\u001b[A\n",
      "100%|██████████| 3/3 [44:22<00:00, 887.58s/it]\n",
      " 62%|██████▎   | 10/16 [7:14:15<4:22:53, 2628.93s/it]\n",
      "  0%|          | 0/3 [00:00<?, ?it/s]\u001b[A\n",
      " 33%|███▎      | 1/3 [14:35<29:11, 875.64s/it]\u001b[A\n",
      " 67%|██████▋   | 2/3 [29:40<14:44, 884.49s/it]\u001b[A\n",
      "100%|██████████| 3/3 [45:03<00:00, 901.30s/it]\n",
      " 69%|██████▉   | 11/16 [7:59:19<3:40:57, 2651.43s/it]\n",
      "  0%|          | 0/3 [00:00<?, ?it/s]\u001b[A\n",
      " 33%|███▎      | 1/3 [15:56<31:52, 956.15s/it]\u001b[A\n",
      " 67%|██████▋   | 2/3 [31:20<15:46, 946.59s/it]\u001b[A\n",
      "100%|██████████| 3/3 [47:54<00:00, 958.16s/it]\n",
      " 75%|███████▌  | 12/16 [8:47:13<3:01:13, 2718.35s/it]\n",
      "  0%|          | 0/3 [00:00<?, ?it/s]\u001b[A\n",
      " 33%|███▎      | 1/3 [15:43<31:26, 943.03s/it]\u001b[A\n",
      " 67%|██████▋   | 2/3 [30:17<15:22, 922.32s/it]\u001b[A\n",
      "100%|██████████| 3/3 [46:23<00:00, 927.77s/it]\n",
      " 81%|████████▏ | 13/16 [9:33:36<2:16:53, 2737.84s/it]\n",
      "  0%|          | 0/3 [00:00<?, ?it/s]\u001b[A\n",
      " 33%|███▎      | 1/3 [15:46<31:33, 946.90s/it]\u001b[A\n",
      " 67%|██████▋   | 2/3 [30:46<15:32, 932.62s/it]\u001b[A\n",
      "100%|██████████| 3/3 [47:11<00:00, 943.97s/it]\n",
      " 88%|████████▊ | 14/16 [10:20:48<1:32:12, 2766.07s/it]\n",
      "  0%|          | 0/3 [00:00<?, ?it/s]\u001b[A\n",
      " 33%|███▎      | 1/3 [15:02<30:05, 902.58s/it]\u001b[A\n",
      " 67%|██████▋   | 2/3 [29:32<14:52, 892.70s/it]\u001b[A\n",
      "100%|██████████| 3/3 [44:00<00:00, 880.29s/it]\n",
      " 94%|█████████▍| 15/16 [11:04:49<45:28, 2728.51s/it]  \n",
      "  0%|          | 0/3 [00:00<?, ?it/s]\u001b[A\n",
      " 33%|███▎      | 1/3 [14:29<28:59, 869.84s/it]\u001b[A\n",
      " 67%|██████▋   | 2/3 [28:57<14:29, 869.29s/it]\u001b[A\n",
      "100%|██████████| 3/3 [43:25<00:00, 868.63s/it]\n",
      "100%|██████████| 16/16 [11:48:15<00:00, 2655.98s/it]\n"
     ]
    },
    {
     "name": "stdout",
     "output_type": "stream",
     "text": [
      "CPU times: user 11h 44min 14s, sys: 3min 40s, total: 11h 47min 55s\n",
      "Wall time: 11h 48min 15s\n"
     ]
    },
    {
     "data": {
      "text/plain": [
       "<matplotlib.axes._subplots.AxesSubplot at 0x7fcb8e984850>"
      ]
     },
     "execution_count": 4,
     "metadata": {},
     "output_type": "execute_result"
    },
    {
     "data": {
      "image/png": "[encoded data removed]",
      "text/plain": [
       "<Figure size 432x288 with 1 Axes>"
      ]
     },
     "metadata": {
      "needs_background": "light"
     },
     "output_type": "display_data"
    }
   ],
   "source": [
    "%%time\n",
    "#3-Fold Cross validation\n",
    "k = 3\n",
    "\n",
    "amount = X.shape[0] // k\n",
    "\n",
    "list_acc = []\n",
    "neighbour_values = [1,3,5,7,9,11,13,15,25,35,45,55,65,75,85,95]\n",
    "three_fold_df = {\n",
    "    'Number of neighbours': neighbour_values\n",
    "}\n",
    "\n",
    "accuracy_1 = []\n",
    "accuracy_2 = []\n",
    "accuracy_3 = []\n",
    "\n",
    "for neighbours in tqdm(neighbour_values):\n",
    "    for i in tqdm(range(3)):\n",
    "    \n",
    "        X_train = np.concatenate((X[0:amount*i], X[amount * (i+1):]))\n",
    "        y_train = np.concatenate((y[0:amount*i], y[amount * (i+1):]))\n",
    "        X_val = X[amount*i:amount*(i+1)]\n",
    "        y_val = y[amount*i:amount*(i+1)]\n",
    "    \n",
    "        clf = mt.KNNClassifier(neighbours)\n",
    "        clf.fit(X_train, y_train)\n",
    "        y_pred = clf.predict(X_val)\n",
    "        \n",
    "        acc = accuracy_score(y_val, y_pred)\n",
    "        \n",
    "        if(i == 0):\n",
    "            accuracy_1.append(acc)\n",
    "        elif(i == 1):\n",
    "            accuracy_2.append(acc)\n",
    "        else:\n",
    "            accuracy_3.append(acc)\n",
    "            \n",
    "three_fold_df.setdefault('Iteration 1',accuracy_1)\n",
    "three_fold_df.setdefault('Iteration 2',accuracy_2)\n",
    "three_fold_df.setdefault('Iteration 3',accuracy_3)\n",
    "\n",
    "dfff = pd.DataFrame(three_fold_df)\n",
    "dfff.to_csv(\"3_fold\")\n",
    "\n",
    "sns.lineplot(data = dfff, x = 'Number of neighbours', y = \"Iteration 1\")\n",
    "sns.lineplot(data = dfff, x = 'Number of neighbours', y = \"Iteration 2\")\n",
    "sns.lineplot(data = dfff, x = 'Number of neighbours', y = \"Iteration 3\")"
   ]
  },
  {
   "cell_type": "code",
   "execution_count": 5,
   "metadata": {},
   "outputs": [
    {
     "data": {
      "image/png": "[encoded data removed]",
      "text/plain": [
       "<Figure size 576x360 with 1 Axes>"
      ]
     },
     "metadata": {
      "needs_background": "light"
     },
     "output_type": "display_data"
    }
   ],
   "source": [
    "# CSV generado en celda anterior\n",
    "dfff = pd.read_csv('3_fold')\n",
    "\n",
    "neibs = dfff['Number of neighbours'].to_list()\n",
    "\n",
    "it1 = dfff['Iteration 1'].to_list()\n",
    "it2 =  dfff['Iteration 2'].to_list()\n",
    "it3 =  dfff['Iteration 3'].to_list()\n",
    "\n",
    "plt.figure(figsize=(8,5))\n",
    "plt.style.use('ggplot')\n",
    "plt.plot(neibs, it1, marker = '.')\n",
    "plt.plot(neibs, it2, marker = '.')\n",
    "plt.plot(neibs, it3, marker = '.')\n",
    "plt.xlabel('Cantidad de vecinos')\n",
    "plt.ylabel('Accuracy')\n",
    "plt.title('3-Fold cross validation con distintas cantidades de vecinos')\n",
    "plt.legend(['Iteración 1', 'Iteración 2', 'Iteración 3'])\n",
    "plt.savefig(\"3_fold_cross_validation_cant_vecinos.png\")"
   ]
  },
  {
   "cell_type": "code",
   "execution_count": 65,
   "metadata": {},
   "outputs": [
    {
     "name": "stdout",
     "output_type": "stream",
     "text": [
      "0.003040178571428548\n",
      "1.8577806122448923e-06\n",
      "1.3788584183673533e-05\n"
     ]
    }
   ],
   "source": [
    "sum = 0\n",
    "\n",
    "for x in range (16):\n",
    "    sum = sum + abs(it1[x]-it2[x])\n",
    "    \n",
    "sum = sum / 16   \n",
    "\n",
    "print(sum)\n",
    "\n",
    "suma = 0\n",
    "\n",
    "for x in range (16):\n",
    "    suma = suma + abs(it1[x]-it3[x])**2\n",
    "    \n",
    "suma = suma / 16 \n",
    "\n",
    "print(suma)\n",
    "\n",
    "sumb = 0\n",
    "\n",
    "for x in range (16):\n",
    "    sumb = sumb + abs(it3[x]-it2[x])**2\n",
    "    \n",
    "sumb = sumb / 16 \n",
    "\n",
    "print(sumb)\n",
    "\n",
    "\n"
   ]
  }
 ],
 "metadata": {
  "kernelspec": {
   "display_name": "Python 3",
   "language": "python",
   "name": "python3"
  },
  "language_info": {
   "codemirror_mode": {
    "name": "ipython",
    "version": 3
   },
   "file_extension": ".py",
   "mimetype": "text/x-python",
   "name": "python",
   "nbconvert_exporter": "python",
   "pygments_lexer": "ipython3",
   "version": "3.7.7"
  }
 },
 "nbformat": 4,
 "nbformat_minor": 4
}
